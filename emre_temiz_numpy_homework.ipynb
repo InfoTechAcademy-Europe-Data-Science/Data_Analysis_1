{
 "cells": [
  {
   "cell_type": "markdown",
   "id": "thirty-train",
   "metadata": {},
   "source": [
    "Q1 : Numpy’da Vektor ve Matrisin farkini tek cumle ile ifade ediniz.\n"
   ]
  },
  {
   "cell_type": "markdown",
   "id": "subtle-guide",
   "metadata": {},
   "source": [
    "Vektorler tek satirli veya tek sutunlu matrislerdir ve matrislerin ozel bir cesididir."
   ]
  },
  {
   "cell_type": "markdown",
   "id": "fifty-patient",
   "metadata": {},
   "source": [
    "Q2 : 10 elemanli bir listeden NumPy Array’i olusturunuz."
   ]
  },
  {
   "cell_type": "code",
   "execution_count": 3,
   "id": "burning-clearance",
   "metadata": {},
   "outputs": [
    {
     "data": {
      "text/plain": [
       "array([ 1,  2,  3,  4,  5,  6,  7,  8,  9, 10])"
      ]
     },
     "execution_count": 3,
     "metadata": {},
     "output_type": "execute_result"
    }
   ],
   "source": [
    "import numpy as np\n",
    "a = np.array([1,2,3,4,5,6,7,8,9,10])\n",
    "a"
   ]
  },
  {
   "cell_type": "markdown",
   "id": "subtle-appreciation",
   "metadata": {},
   "source": [
    "Q3 : Icerisinde ‘0’ lar olan, ve veri tipi integer olan 10X10’luk bir matris olusturunuz."
   ]
  },
  {
   "cell_type": "code",
   "execution_count": 6,
   "id": "miniature-registrar",
   "metadata": {},
   "outputs": [
    {
     "data": {
      "text/plain": [
       "array([[0, 0, 0, 0, 0, 0, 0, 0, 0, 0],\n",
       "       [0, 0, 0, 0, 0, 0, 0, 0, 0, 0],\n",
       "       [0, 0, 0, 0, 0, 0, 0, 0, 0, 0],\n",
       "       [0, 0, 0, 0, 0, 0, 0, 0, 0, 0],\n",
       "       [0, 0, 0, 0, 0, 0, 0, 0, 0, 0],\n",
       "       [0, 0, 0, 0, 0, 0, 0, 0, 0, 0],\n",
       "       [0, 0, 0, 0, 0, 0, 0, 0, 0, 0],\n",
       "       [0, 0, 0, 0, 0, 0, 0, 0, 0, 0],\n",
       "       [0, 0, 0, 0, 0, 0, 0, 0, 0, 0],\n",
       "       [0, 0, 0, 0, 0, 0, 0, 0, 0, 0]])"
      ]
     },
     "execution_count": 6,
     "metadata": {},
     "output_type": "execute_result"
    }
   ],
   "source": [
    "matris=np.zeros((10,10), dtype = int)\n",
    "matris"
   ]
  },
  {
   "cell_type": "markdown",
   "id": "sacred-catch",
   "metadata": {},
   "source": [
    "Q4 : Icerisinde ‘1’ ler olan, veri tipi float olan 10X10’luk bir matris olusturunuz."
   ]
  },
  {
   "cell_type": "code",
   "execution_count": 7,
   "id": "supported-eleven",
   "metadata": {},
   "outputs": [
    {
     "data": {
      "text/plain": [
       "array([[1., 1., 1., 1., 1., 1., 1., 1., 1., 1.],\n",
       "       [1., 1., 1., 1., 1., 1., 1., 1., 1., 1.],\n",
       "       [1., 1., 1., 1., 1., 1., 1., 1., 1., 1.],\n",
       "       [1., 1., 1., 1., 1., 1., 1., 1., 1., 1.],\n",
       "       [1., 1., 1., 1., 1., 1., 1., 1., 1., 1.],\n",
       "       [1., 1., 1., 1., 1., 1., 1., 1., 1., 1.],\n",
       "       [1., 1., 1., 1., 1., 1., 1., 1., 1., 1.],\n",
       "       [1., 1., 1., 1., 1., 1., 1., 1., 1., 1.],\n",
       "       [1., 1., 1., 1., 1., 1., 1., 1., 1., 1.],\n",
       "       [1., 1., 1., 1., 1., 1., 1., 1., 1., 1.]])"
      ]
     },
     "execution_count": 7,
     "metadata": {},
     "output_type": "execute_result"
    }
   ],
   "source": [
    "matris=np.ones((10,10), dtype = float)\n",
    "matris"
   ]
  },
  {
   "cell_type": "markdown",
   "id": "flush-likelihood",
   "metadata": {},
   "source": [
    "Q5 : Icerisinde ‘9’ lar olan, veri tipi integer olan 10X10’luk bir matris olusturunuz."
   ]
  },
  {
   "cell_type": "code",
   "execution_count": 8,
   "id": "civil-hollywood",
   "metadata": {},
   "outputs": [
    {
     "data": {
      "text/plain": [
       "array([[9, 9, 9, 9, 9, 9, 9, 9, 9, 9],\n",
       "       [9, 9, 9, 9, 9, 9, 9, 9, 9, 9],\n",
       "       [9, 9, 9, 9, 9, 9, 9, 9, 9, 9],\n",
       "       [9, 9, 9, 9, 9, 9, 9, 9, 9, 9],\n",
       "       [9, 9, 9, 9, 9, 9, 9, 9, 9, 9],\n",
       "       [9, 9, 9, 9, 9, 9, 9, 9, 9, 9],\n",
       "       [9, 9, 9, 9, 9, 9, 9, 9, 9, 9],\n",
       "       [9, 9, 9, 9, 9, 9, 9, 9, 9, 9],\n",
       "       [9, 9, 9, 9, 9, 9, 9, 9, 9, 9],\n",
       "       [9, 9, 9, 9, 9, 9, 9, 9, 9, 9]])"
      ]
     },
     "execution_count": 8,
     "metadata": {},
     "output_type": "execute_result"
    }
   ],
   "source": [
    "matris=np.full((10,10),9, dtype = int)\n",
    "matris"
   ]
  },
  {
   "cell_type": "markdown",
   "id": "shaped-saint",
   "metadata": {},
   "source": [
    "Q6 : 5 ile 25 arasinda, 3’er 3’er atlayan tek boyutlu bir Array olusturunuz."
   ]
  },
  {
   "cell_type": "code",
   "execution_count": 10,
   "id": "hourly-awareness",
   "metadata": {},
   "outputs": [
    {
     "data": {
      "text/plain": [
       "array([ 5,  8, 11, 14, 17, 20, 23])"
      ]
     },
     "execution_count": 10,
     "metadata": {},
     "output_type": "execute_result"
    }
   ],
   "source": [
    "matris=np.arange(5,25, 3) #0'dan 31'e kadar 3'er artarak dizi olusturma\n",
    "matris"
   ]
  },
  {
   "cell_type": "markdown",
   "id": "extra-billy",
   "metadata": {},
   "source": [
    "Q7 : -1 ile 1 arasinda 30 adet Array olusturunuz."
   ]
  },
  {
   "cell_type": "code",
   "execution_count": 12,
   "id": "favorite-hungarian",
   "metadata": {},
   "outputs": [
    {
     "data": {
      "text/plain": [
       "array([-1.        , -0.93103448, -0.86206897, -0.79310345, -0.72413793,\n",
       "       -0.65517241, -0.5862069 , -0.51724138, -0.44827586, -0.37931034,\n",
       "       -0.31034483, -0.24137931, -0.17241379, -0.10344828, -0.03448276,\n",
       "        0.03448276,  0.10344828,  0.17241379,  0.24137931,  0.31034483,\n",
       "        0.37931034,  0.44827586,  0.51724138,  0.5862069 ,  0.65517241,\n",
       "        0.72413793,  0.79310345,  0.86206897,  0.93103448,  1.        ])"
      ]
     },
     "execution_count": 12,
     "metadata": {},
     "output_type": "execute_result"
    }
   ],
   "source": [
    "matris=np.linspace(-1,1,30) \n",
    "matris"
   ]
  },
  {
   "cell_type": "markdown",
   "id": "successful-shadow",
   "metadata": {},
   "source": [
    "Q8 : 0 ile 30 arasinda 5x6’lik bir matris olusturun.\n"
   ]
  },
  {
   "cell_type": "code",
   "execution_count": 15,
   "id": "integral-hunger",
   "metadata": {},
   "outputs": [
    {
     "data": {
      "text/plain": [
       "array([[-56.21318141, -22.02620107,  46.73753823,  23.44434517,\n",
       "         45.21756427, -11.38906813],\n",
       "       [ -9.83494721, -30.08532165,  18.15919179, -12.86000047,\n",
       "        -36.762211  ,   7.55724492],\n",
       "       [ 19.39861052, -24.24666492, -18.64241907, -64.47135094,\n",
       "        -38.00581716,   6.39715646],\n",
       "       [ 10.30072186,  16.04578615,   5.89302287, -48.69163042,\n",
       "          3.25846821,  21.74540165],\n",
       "       [ 73.36097865,  -0.78954107,  25.45977881,  46.13845353,\n",
       "        -36.965716  , -38.98298925]])"
      ]
     },
     "execution_count": 15,
     "metadata": {},
     "output_type": "execute_result"
    }
   ],
   "source": [
    "matris=np.random.normal(0,30,(5,6)) \n",
    "matris"
   ]
  },
  {
   "cell_type": "markdown",
   "id": "pacific-manual",
   "metadata": {},
   "source": [
    "Q9 : Kosegenleri 1 olan 10x10’luk bir matris olusturunuz."
   ]
  },
  {
   "cell_type": "code",
   "execution_count": null,
   "id": "talented-whole",
   "metadata": {},
   "outputs": [],
   "source": []
  },
  {
   "cell_type": "markdown",
   "id": "liquid-province",
   "metadata": {},
   "source": [
    "Q10 : 0 ile 10 arasinda 5x10’lik bir matris olusturun. (integer) ve bu matrisin; • eleman sayisini • boyut bilgisini/sayisini • satir X sutun bilgisini • veri tipini numpy metodlariyla yazdiriniz."
   ]
  },
  {
   "cell_type": "code",
   "execution_count": 81,
   "id": "essential-defensive",
   "metadata": {},
   "outputs": [
    {
     "name": "stdout",
     "output_type": "stream",
     "text": [
      " eleman sayisi : 50\n",
      " boyut bilgisi: 2\n",
      " boyut bilgisi : (5, 10)\n",
      " veri tipi sayisi : float64\n"
     ]
    }
   ],
   "source": [
    "matris=np.random.normal(0,10,(5,10)) \n",
    "print( f\" eleman sayisi : {matris.size}\")\n",
    "print( f\" boyut bilgisi: {matris.ndim}\")\n",
    "print( f\" boyut bilgisi : {matris.shape}\")\n",
    "print( f\" veri tipi sayisi : {matris.dtype}\")\n"
   ]
  },
  {
   "cell_type": "markdown",
   "id": "eleven-israeli",
   "metadata": {},
   "source": [
    "Q11 : 0 ile 10 arasindaki degerlerden olusan 3 adet 4x7’lik bir matris olusturunuz. (3 boyutlu bir matris olusturulacak)"
   ]
  },
  {
   "cell_type": "code",
   "execution_count": 32,
   "id": "rational-smoke",
   "metadata": {},
   "outputs": [
    {
     "data": {
      "text/plain": [
       "array([[ -8.6540897 ,  -5.34067868,   0.28084627,  -4.03745597,\n",
       "          0.88682235,  -1.97242269,  -7.05413234],\n",
       "       [-15.96485385,  -2.02815091,  -0.91185459,  11.38006373,\n",
       "          2.98014789,  -6.4799644 ,   3.06935479],\n",
       "       [-10.17349102,   1.4756834 ,  -0.1471539 ,  -0.34692603,\n",
       "         -5.89234676,  11.32645336,  10.13526821]])"
      ]
     },
     "execution_count": 32,
     "metadata": {},
     "output_type": "execute_result"
    }
   ],
   "source": [
    "matris=np.random.normal(0,10,(3,7)) \n",
    "matris"
   ]
  },
  {
   "cell_type": "markdown",
   "id": "fossil-tiger",
   "metadata": {},
   "source": [
    "Q12: Bir vektor olusturunuz ve daha sonrasinda ayni vektoru bir matrise ceviriniz. (boyut sayisini degistirin.)"
   ]
  },
  {
   "cell_type": "code",
   "execution_count": 35,
   "id": "changing-sydney",
   "metadata": {},
   "outputs": [
    {
     "data": {
      "text/plain": [
       "array([1, 2, 3, 4, 5, 6, 7, 8, 9])"
      ]
     },
     "execution_count": 35,
     "metadata": {},
     "output_type": "execute_result"
    }
   ],
   "source": [
    "b = np.arange(1,10)\n",
    "b\n"
   ]
  },
  {
   "cell_type": "code",
   "execution_count": 36,
   "id": "qualified-distance",
   "metadata": {},
   "outputs": [
    {
     "data": {
      "text/plain": [
       "array([[1, 2, 3],\n",
       "       [4, 5, 6],\n",
       "       [7, 8, 9]])"
      ]
     },
     "execution_count": 36,
     "metadata": {},
     "output_type": "execute_result"
    }
   ],
   "source": [
    "b.reshape((3,3))"
   ]
  },
  {
   "cell_type": "markdown",
   "id": "premier-retailer",
   "metadata": {},
   "source": [
    "Q 13: 4 tane ayri tek boyutlu array’i birlestirerek bir array olusturunuz."
   ]
  },
  {
   "cell_type": "code",
   "execution_count": 51,
   "id": "patent-intervention",
   "metadata": {},
   "outputs": [],
   "source": [
    "a = np.random.randint(10, size = (10))\n",
    "b = np.random.randint(10, size = (10))\n",
    "c = np.random.randint(10, size = (10))\n",
    "d = np.random.randint(10, size = (10))"
   ]
  },
  {
   "cell_type": "code",
   "execution_count": 56,
   "id": "sapphire-canberra",
   "metadata": {},
   "outputs": [
    {
     "data": {
      "text/plain": [
       "array([[9, 2, 2, 9, 9, 7, 2, 5, 6, 1],\n",
       "       [9, 7, 9, 3, 7, 3, 1, 7, 2, 4],\n",
       "       [5, 8, 1, 0, 0, 6, 0, 2, 0, 8],\n",
       "       [7, 1, 0, 2, 5, 6, 2, 4, 8, 2]])"
      ]
     },
     "execution_count": 56,
     "metadata": {},
     "output_type": "execute_result"
    }
   ],
   "source": [
    "matris=np.concatenate([a,b,c,d])\n",
    "matris.reshape(4,10)"
   ]
  },
  {
   "cell_type": "markdown",
   "id": "intellectual-darkness",
   "metadata": {},
   "source": [
    "Q 14: 2 boyutlu bir vektor ve bir matris olusturun(ayri ayri), bu iki arrayi numpy metodlarini kullanarak sutun bazli birlestiriniz,"
   ]
  },
  {
   "cell_type": "code",
   "execution_count": 74,
   "id": "british-baptist",
   "metadata": {},
   "outputs": [],
   "source": [
    "a = np.array([[1,2,3], \n",
    "              [4,5,6]])"
   ]
  },
  {
   "cell_type": "code",
   "execution_count": 73,
   "id": "indoor-script",
   "metadata": {},
   "outputs": [],
   "source": [
    "b = np.array([[7,8,9],\n",
    "             [10,11,12]])"
   ]
  },
  {
   "cell_type": "code",
   "execution_count": 75,
   "id": "confused-place",
   "metadata": {},
   "outputs": [
    {
     "data": {
      "text/plain": [
       "array([[ 1,  2,  3],\n",
       "       [ 4,  5,  6],\n",
       "       [ 7,  8,  9],\n",
       "       [10, 11, 12]])"
      ]
     },
     "execution_count": 75,
     "metadata": {},
     "output_type": "execute_result"
    }
   ],
   "source": [
    "np.concatenate([a,b],axis=0)"
   ]
  },
  {
   "cell_type": "markdown",
   "id": "hawaiian-denmark",
   "metadata": {},
   "source": [
    "Q 15 : Numpy’da “axis=1” ve “axis=0” arasinda ne fark vardir. Teorik olarak yaziniz?"
   ]
  },
  {
   "cell_type": "markdown",
   "id": "informative-villa",
   "metadata": {},
   "source": [
    " axis=0 satiri , x eksenini , yatayi\n",
    " axis=1 sutunu , y eksenini , dikeyi temsil eder"
   ]
  },
  {
   "cell_type": "markdown",
   "id": "ranging-computer",
   "metadata": {},
   "source": [
    "Q 16 : Farkli boyutlardaki arraylari satir ve sutun bazli ayri ayri birlestiriniz."
   ]
  },
  {
   "cell_type": "code",
   "execution_count": 89,
   "id": "proof-nursery",
   "metadata": {},
   "outputs": [
    {
     "data": {
      "text/plain": [
       "array([[0, 1, 2],\n",
       "       [3, 4, 5],\n",
       "       [6, 7, 8],\n",
       "       [1, 2, 3],\n",
       "       [4, 4, 4],\n",
       "       [5, 5, 6]])"
      ]
     },
     "execution_count": 89,
     "metadata": {},
     "output_type": "execute_result"
    }
   ],
   "source": [
    "a = np.arange(4)                # 1x4 boyutunda arrayi 3x3 array ile birlestirmek istiyoruz\n",
    "a = np.arange(9).reshape(3,3)   # 1x9 arrayi 2x3'e cevirebiliriz\n",
    "b = np.array([[1,2,3],[4,4,4],[5,5,6]])    # bu durumda 3x3 ile dikey olarak birlestirebiliriz       \n",
    "np.vstack((a, b))      # ayni boyuta getirip birlestirebiliriz"
   ]
  },
  {
   "cell_type": "code",
   "execution_count": 90,
   "id": "express-belief",
   "metadata": {},
   "outputs": [
    {
     "name": "stdout",
     "output_type": "stream",
     "text": [
      "\n",
      " [1 2 3 0 1 2 3 4 5 6 7 8]\n"
     ]
    }
   ],
   "source": [
    "x = np.array([1,2,3])                   # 1x3 ile\n",
    "y = np.arange(9).reshape(3,3)           # 3x3 yatay olarak birlestirmek icin\n",
    "z = np.hstack((x, y.reshape(9,)))       # ayni boyuta getirip (3x3 = 1x9) birlestirebiliriz\n",
    "print(\"\\n\",z) \n"
   ]
  },
  {
   "cell_type": "markdown",
   "id": "injured-desire",
   "metadata": {},
   "source": [
    "Q 17 : 10 elemanli bi liste olusturunuz ve bu listeyi Numpy metodlariyla bolerek(split) 5 ayri array olusturunuz."
   ]
  },
  {
   "cell_type": "code",
   "execution_count": 91,
   "id": "advised-appraisal",
   "metadata": {},
   "outputs": [
    {
     "data": {
      "text/plain": [
       "(array([1, 2]), array([3, 4]), array([5, 6]), array([7, 8]), array([ 9, 10]))"
      ]
     },
     "execution_count": 91,
     "metadata": {},
     "output_type": "execute_result"
    }
   ],
   "source": [
    "liste = [1,2,3,4,5,6,7,8,9,10]\n",
    "a,b,c,d,e = np.split(liste, [2,4,6,8])\n",
    "a,b,c,d,e"
   ]
  },
  {
   "cell_type": "markdown",
   "id": "certified-syndication",
   "metadata": {},
   "source": [
    "Q 18 : Random bir array olusturunuz ve bu arrayi buyukten kucuge dogru siralayiniz.Ve bu siralamadan sonra hangi elemanin hangi indexte oldugunu gosteren bir metod uygulayiniz."
   ]
  },
  {
   "cell_type": "code",
   "execution_count": 92,
   "id": "similar-evanescence",
   "metadata": {},
   "outputs": [
    {
     "data": {
      "text/plain": [
       "array([1, 1, 1, 3, 4, 4, 7, 8, 8, 9])"
      ]
     },
     "execution_count": 92,
     "metadata": {},
     "output_type": "execute_result"
    }
   ],
   "source": [
    "arr = np.random.randint(10, size=10)\n",
    "arr.sort()\n",
    "arr"
   ]
  },
  {
   "cell_type": "markdown",
   "id": "theoretical-excess",
   "metadata": {},
   "source": [
    "Q 19 : 20 elemanli random bir vektor olusturunuz. Bu vektorun 3. 5. ve 7. elemanlarina ulasin."
   ]
  },
  {
   "cell_type": "code",
   "execution_count": 93,
   "id": "expensive-kidney",
   "metadata": {},
   "outputs": [
    {
     "name": "stdout",
     "output_type": "stream",
     "text": [
      "[8 8 9 9 6 6 6 2 7 7 8 7 8 9 8 5 2 0 3 2]\n",
      "[9 6 2]\n"
     ]
    }
   ],
   "source": [
    "vek = np.random.randint(10, size=20)\n",
    "print(vek)\n",
    "split=[3,5,7]\n",
    "print(vek[split])"
   ]
  },
  {
   "cell_type": "markdown",
   "id": "unknown-faith",
   "metadata": {},
   "source": [
    "Q 20 : 10 elemanli random bir vektor olusturunuz ve bu arrayin 4. elemanini farkli bir sayiyla degistiriniz."
   ]
  },
  {
   "cell_type": "code",
   "execution_count": 94,
   "id": "norwegian-regular",
   "metadata": {},
   "outputs": [
    {
     "name": "stdout",
     "output_type": "stream",
     "text": [
      "[2 9 1 7 0 4 9 9 8 1]\n",
      "[ 2  9  1  7 99  4  9  9  8  1]\n"
     ]
    }
   ],
   "source": [
    "arr = np.random.randint(10, size=10)\n",
    "print(arr)\n",
    "arr[4]=99\n",
    "print(arr)"
   ]
  },
  {
   "cell_type": "markdown",
   "id": "viral-variety",
   "metadata": {},
   "source": [
    "Q 21 : “Diagonal Matrix” ve “Trace of Matrix” kavramlari hakkinda kucuk bir arastirma yapip bunlarin ne oldugunu belirten kucuk bir aciklama yaziniz."
   ]
  },
  {
   "cell_type": "markdown",
   "id": "harmful-ontario",
   "metadata": {},
   "source": [
    "Answer: Bir kare matriste asal köşegen üzerindeki elemanların dışında kalan tüm elemanlar sıfır ise bu matrise köşegen yani \"DIAGONAL matris\" matris denir.\n",
    "\n",
    "Kosegen uzerindeki elemanlarin toplamina Matris izi \"Trace of Matrix\" denir"
   ]
  },
  {
   "cell_type": "markdown",
   "id": "seven-slave",
   "metadata": {},
   "source": [
    "Q 22 : 5x5’lik Diagonal bir matris olusturunuz ve Diagonaline denk gelen indexlere ulasiniz.(ayri ayri)"
   ]
  },
  {
   "cell_type": "code",
   "execution_count": 95,
   "id": "modified-prison",
   "metadata": {},
   "outputs": [
    {
     "name": "stdout",
     "output_type": "stream",
     "text": [
      "[[1. 0. 0. 0. 0.]\n",
      " [0. 1. 0. 0. 0.]\n",
      " [0. 0. 1. 0. 0.]\n",
      " [0. 0. 0. 1. 0.]\n",
      " [0. 0. 0. 0. 1.]]\n"
     ]
    }
   ],
   "source": [
    "matris = np.eye(5,5)\n",
    "print(matris)"
   ]
  },
  {
   "cell_type": "code",
   "execution_count": 97,
   "id": "fifth-plain",
   "metadata": {},
   "outputs": [
    {
     "name": "stdout",
     "output_type": "stream",
     "text": [
      "[1. 1. 1. 1. 1.]\n"
     ]
    }
   ],
   "source": [
    "print(matris[[0,1,2,3,4],[0,1,2,3,4]])  "
   ]
  },
  {
   "cell_type": "code",
   "execution_count": 100,
   "id": "atlantic-weight",
   "metadata": {},
   "outputs": [
    {
     "name": "stdout",
     "output_type": "stream",
     "text": [
      "1.0\n",
      "1.0\n",
      "1.0\n",
      "1.0\n",
      "1.0\n"
     ]
    }
   ],
   "source": [
    "for i in range (len(matris)):             \n",
    "    print(matris[i,i])"
   ]
  },
  {
   "cell_type": "markdown",
   "id": "julian-western",
   "metadata": {},
   "source": [
    "Q 23 : 10 ile 20 arasinda bir vektor olusturunuz. Ve 3. indexten son indexe kadar olan degerleri yazdiriniz."
   ]
  },
  {
   "cell_type": "code",
   "execution_count": 101,
   "id": "toxic-intervention",
   "metadata": {},
   "outputs": [
    {
     "data": {
      "text/plain": [
       "array([13, 14, 15, 16, 17, 18, 19])"
      ]
     },
     "execution_count": 101,
     "metadata": {},
     "output_type": "execute_result"
    }
   ],
   "source": [
    "vektor = np.arange(10,20)\n",
    "vektor[3:]"
   ]
  },
  {
   "cell_type": "markdown",
   "id": "motivated-receipt",
   "metadata": {},
   "source": [
    "Q 24 : 10X10 luk bir matris olusturunuz ve ; • 3.satir ve 5.sutuna ulasiniz. • 5.sutunun tum satirlarina ulasiniz. • Tum sutunlarin 2.satirlarina ulasiniz. • tum sutunlarin 2 ile 7 arasindaki satirlarina ulasiniz. • satir indexi 2’den 5’e ve sutun indexi 3 den 7’ye kadar olan degerlere ulasiniz. • satir indexi 5’den en sona ve sutun indexi en bastan 4’e kadar olan degerlere ulasiniz. • sutun indexi sadece 3, 6, 9 olan kolonlarin(sutunlarin), tum satirlarina ulasiniz. • 5.indexli satir ve 5.indexli sutuna denk gelen degeri, dogum yilinizla degistiriniz."
   ]
  },
  {
   "cell_type": "code",
   "execution_count": 102,
   "id": "defensive-sarah",
   "metadata": {},
   "outputs": [
    {
     "data": {
      "text/plain": [
       "array([[ 0,  1,  2,  3,  4,  5,  6,  7,  8,  9],\n",
       "       [10, 11, 12, 13, 14, 15, 16, 17, 18, 19],\n",
       "       [20, 21, 22, 23, 24, 25, 26, 27, 28, 29],\n",
       "       [30, 31, 32, 33, 34, 35, 36, 37, 38, 39],\n",
       "       [40, 41, 42, 43, 44, 45, 46, 47, 48, 49],\n",
       "       [50, 51, 52, 53, 54, 55, 56, 57, 58, 59],\n",
       "       [60, 61, 62, 63, 64, 65, 66, 67, 68, 69],\n",
       "       [70, 71, 72, 73, 74, 75, 76, 77, 78, 79],\n",
       "       [80, 81, 82, 83, 84, 85, 86, 87, 88, 89],\n",
       "       [90, 91, 92, 93, 94, 95, 96, 97, 98, 99]])"
      ]
     },
     "execution_count": 102,
     "metadata": {},
     "output_type": "execute_result"
    }
   ],
   "source": [
    "matris = np.arange(100).reshape(10,10)\n",
    "matris"
   ]
  },
  {
   "cell_type": "code",
   "execution_count": 103,
   "id": "mysterious-wellington",
   "metadata": {},
   "outputs": [
    {
     "data": {
      "text/plain": [
       "35"
      ]
     },
     "execution_count": 103,
     "metadata": {},
     "output_type": "execute_result"
    }
   ],
   "source": [
    "matris[3,5]"
   ]
  },
  {
   "cell_type": "code",
   "execution_count": 105,
   "id": "indoor-french",
   "metadata": {},
   "outputs": [
    {
     "data": {
      "text/plain": [
       "array([ 5, 15, 25, 35, 45, 55, 65, 75, 85, 95])"
      ]
     },
     "execution_count": 105,
     "metadata": {},
     "output_type": "execute_result"
    }
   ],
   "source": [
    "matris[:,5]"
   ]
  },
  {
   "cell_type": "code",
   "execution_count": 106,
   "id": "strong-accessory",
   "metadata": {},
   "outputs": [
    {
     "data": {
      "text/plain": [
       "array([20, 21, 22, 23, 24, 25, 26, 27, 28, 29])"
      ]
     },
     "execution_count": 106,
     "metadata": {},
     "output_type": "execute_result"
    }
   ],
   "source": [
    "matris[2,:]"
   ]
  },
  {
   "cell_type": "code",
   "execution_count": 107,
   "id": "athletic-offense",
   "metadata": {},
   "outputs": [
    {
     "data": {
      "text/plain": [
       "array([[20, 21, 22, 23, 24, 25, 26, 27, 28, 29],\n",
       "       [30, 31, 32, 33, 34, 35, 36, 37, 38, 39],\n",
       "       [40, 41, 42, 43, 44, 45, 46, 47, 48, 49],\n",
       "       [50, 51, 52, 53, 54, 55, 56, 57, 58, 59],\n",
       "       [60, 61, 62, 63, 64, 65, 66, 67, 68, 69]])"
      ]
     },
     "execution_count": 107,
     "metadata": {},
     "output_type": "execute_result"
    }
   ],
   "source": [
    "matris[2:7,:]"
   ]
  },
  {
   "cell_type": "code",
   "execution_count": 108,
   "id": "electric-secondary",
   "metadata": {},
   "outputs": [
    {
     "data": {
      "text/plain": [
       "array([[23, 24, 25, 26],\n",
       "       [33, 34, 35, 36],\n",
       "       [43, 44, 45, 46]])"
      ]
     },
     "execution_count": 108,
     "metadata": {},
     "output_type": "execute_result"
    }
   ],
   "source": [
    "matris[2:5,3:7]"
   ]
  },
  {
   "cell_type": "code",
   "execution_count": 109,
   "id": "smart-vegetarian",
   "metadata": {},
   "outputs": [
    {
     "data": {
      "text/plain": [
       "array([[50, 51, 52, 53],\n",
       "       [60, 61, 62, 63],\n",
       "       [70, 71, 72, 73],\n",
       "       [80, 81, 82, 83],\n",
       "       [90, 91, 92, 93]])"
      ]
     },
     "execution_count": 109,
     "metadata": {},
     "output_type": "execute_result"
    }
   ],
   "source": [
    "matris[5:,:4]"
   ]
  },
  {
   "cell_type": "code",
   "execution_count": 110,
   "id": "pharmaceutical-binary",
   "metadata": {},
   "outputs": [
    {
     "data": {
      "text/plain": [
       "array([[ 3,  6,  9],\n",
       "       [13, 16, 19],\n",
       "       [23, 26, 29],\n",
       "       [33, 36, 39],\n",
       "       [43, 46, 49],\n",
       "       [53, 56, 59],\n",
       "       [63, 66, 69],\n",
       "       [73, 76, 79],\n",
       "       [83, 86, 89],\n",
       "       [93, 96, 99]])"
      ]
     },
     "execution_count": 110,
     "metadata": {},
     "output_type": "execute_result"
    }
   ],
   "source": [
    "matris[:,[3,6,9]]"
   ]
  },
  {
   "cell_type": "code",
   "execution_count": 113,
   "id": "first-cancer",
   "metadata": {},
   "outputs": [],
   "source": [
    "matris[5,5]=1994"
   ]
  },
  {
   "cell_type": "code",
   "execution_count": 114,
   "id": "caring-republican",
   "metadata": {},
   "outputs": [
    {
     "data": {
      "text/plain": [
       "array([[   0,    1,    2,    3,    4,    5,    6,    7,    8,    9],\n",
       "       [  10,   11,   12,   13,   14,   15,   16,   17,   18,   19],\n",
       "       [  20,   21,   22,   23,   24,   25,   26,   27,   28,   29],\n",
       "       [  30,   31,   32,   33,   34,   35,   36,   37,   38,   39],\n",
       "       [  40,   41,   42,   43,   44,   45,   46,   47,   48,   49],\n",
       "       [  50,   51,   52,   53,   54, 1994,   56,   57,   58,   59],\n",
       "       [  60,   61,   62,   63,   64,   65,   66,   67,   68,   69],\n",
       "       [  70,   71,   72,   73,   74,   75,   76,   77,   78,   79],\n",
       "       [  80,   81,   82,   83,   84,   85,   86,   87,   88,   89],\n",
       "       [  90,   91,   92,   93,   94,   95,   96,   97,   98,   99]])"
      ]
     },
     "execution_count": 114,
     "metadata": {},
     "output_type": "execute_result"
    }
   ],
   "source": [
    "matris"
   ]
  },
  {
   "cell_type": "markdown",
   "id": "subject-worst",
   "metadata": {},
   "source": [
    "Q 25: 0’dan 50’ye kadar 5’er 5’er atlayarak giden bir array olusturunuz(tek boyutlu) ve numpy metodlariyla asagidaki islemleri uygulayin; • 20 den buyuk olan kac deger var. • 30’dan kucuk kac deger var • icerisinde 33 gecen kac deger var • olusturulan arrayin tum elemanlarini 5 ile carpin. • olusturulan arrayin tum elemanlarinin 2 ile bolumunden kalanlari yazdiriniz."
   ]
  },
  {
   "cell_type": "code",
   "execution_count": 116,
   "id": "greatest-render",
   "metadata": {},
   "outputs": [
    {
     "data": {
      "text/plain": [
       "array([ 0,  5, 10, 15, 20, 25, 30, 35, 40, 45])"
      ]
     },
     "execution_count": 116,
     "metadata": {},
     "output_type": "execute_result"
    }
   ],
   "source": [
    "matris = np.arange(0,50,5)\n",
    "matris"
   ]
  },
  {
   "cell_type": "code",
   "execution_count": 117,
   "id": "experimental-house",
   "metadata": {},
   "outputs": [
    {
     "data": {
      "text/plain": [
       "5"
      ]
     },
     "execution_count": 117,
     "metadata": {},
     "output_type": "execute_result"
    }
   ],
   "source": [
    "np.sum(matris>20)"
   ]
  },
  {
   "cell_type": "code",
   "execution_count": 118,
   "id": "wicked-funds",
   "metadata": {},
   "outputs": [
    {
     "data": {
      "text/plain": [
       "6"
      ]
     },
     "execution_count": 118,
     "metadata": {},
     "output_type": "execute_result"
    }
   ],
   "source": [
    "np.sum(matris<30)"
   ]
  },
  {
   "cell_type": "code",
   "execution_count": 120,
   "id": "anticipated-cement",
   "metadata": {},
   "outputs": [
    {
     "data": {
      "text/plain": [
       "0"
      ]
     },
     "execution_count": 120,
     "metadata": {},
     "output_type": "execute_result"
    }
   ],
   "source": [
    "np.sum(matris==33)"
   ]
  },
  {
   "cell_type": "code",
   "execution_count": 121,
   "id": "later-physiology",
   "metadata": {},
   "outputs": [
    {
     "data": {
      "text/plain": [
       "array([  0,  25,  50,  75, 100, 125, 150, 175, 200, 225])"
      ]
     },
     "execution_count": 121,
     "metadata": {},
     "output_type": "execute_result"
    }
   ],
   "source": [
    "matris*5"
   ]
  },
  {
   "cell_type": "code",
   "execution_count": 123,
   "id": "local-chess",
   "metadata": {},
   "outputs": [
    {
     "data": {
      "text/plain": [
       "array([0, 1, 0, 1, 0, 1, 0, 1, 0, 1], dtype=int32)"
      ]
     },
     "execution_count": 123,
     "metadata": {},
     "output_type": "execute_result"
    }
   ],
   "source": [
    "matris%2"
   ]
  },
  {
   "cell_type": "markdown",
   "id": "chemical-pioneer",
   "metadata": {},
   "source": [
    "Q 26 : 0 ile 1 arasinda 50 elamanli bir array olusturunuz ve; • ortalamasini aliniz. • standart sapmasini aliniz. • varyansini aliniz. • median’ini aliniz. • en kucuk degeri bulunuz. • en buyuk degeri bulunuz. Master odev ; Bir dongu icerisinde random olacak sekilde iki tane 20x20’luk matris uretin ve bu matrislerin farklarini alin. Ve fark matrisinin diagonali, -0.1 ile 0.1 arasinda olana kadar bu islemi tekrarlayin. Istenilen matris bulundugunda program dursun ve toplam kac dongunun kuruldugunu, ne kadar sure icinde buldugunu ve istenilen matrisi print ile birlikte ekrana yazdiriniz... Tavsiye: 20 x 20 luk matrisin bulunmasi saatler surebilir. Bu yuzden algoritmanizin dogrulugunu test etmek icin once 4x4, 5x5 gibi kucuk matrislerde deneyebilirsiniz. Ve matris sayisisini arttirarak en son 20x20 u deneyebilirsiniz."
   ]
  },
  {
   "cell_type": "code",
   "execution_count": 125,
   "id": "coordinate-protocol",
   "metadata": {},
   "outputs": [
    {
     "data": {
      "text/plain": [
       "array([[0.80364887, 0.15408956, 0.33889542, 0.81648334, 0.35867145,\n",
       "        0.21219236, 0.57617431, 0.74833844, 0.06687243, 0.92240604,\n",
       "        0.64428213, 0.78977621, 0.46425044, 0.94485768, 0.59708114,\n",
       "        0.68237221, 0.52456106, 0.36759042, 0.10757879, 0.02229632,\n",
       "        0.49263809, 0.45611647, 0.62510914, 0.19460669, 0.45543144,\n",
       "        0.15191131, 0.95954523, 0.99000301, 0.2474172 , 0.29161078,\n",
       "        0.48400066, 0.1747116 , 0.78265979, 0.68775821, 0.76949239,\n",
       "        0.52743777, 0.24243663, 0.68923509, 0.46384481, 0.07323816,\n",
       "        0.83956771, 0.76312992, 0.03174492, 0.45480116, 0.02634595,\n",
       "        0.11011725, 0.0696009 , 0.06842582, 0.15651304, 0.30738689]])"
      ]
     },
     "execution_count": 125,
     "metadata": {},
     "output_type": "execute_result"
    }
   ],
   "source": [
    "matris=np.random.rand(1,50)\n",
    "matris"
   ]
  },
  {
   "cell_type": "code",
   "execution_count": 127,
   "id": "noted-hebrew",
   "metadata": {},
   "outputs": [
    {
     "data": {
      "text/plain": [
       "0.45458513329573763"
      ]
     },
     "execution_count": 127,
     "metadata": {},
     "output_type": "execute_result"
    }
   ],
   "source": [
    "matris.mean()"
   ]
  },
  {
   "cell_type": "code",
   "execution_count": 128,
   "id": "executed-cancellation",
   "metadata": {},
   "outputs": [
    {
     "data": {
      "text/plain": [
       "0.2898158221214854"
      ]
     },
     "execution_count": 128,
     "metadata": {},
     "output_type": "execute_result"
    }
   ],
   "source": [
    "matris.std()"
   ]
  },
  {
   "cell_type": "code",
   "execution_count": 129,
   "id": "documentary-gabriel",
   "metadata": {},
   "outputs": [
    {
     "data": {
      "text/plain": [
       "0.08399321075195246"
      ]
     },
     "execution_count": 129,
     "metadata": {},
     "output_type": "execute_result"
    }
   ],
   "source": [
    "matris.var() "
   ]
  },
  {
   "cell_type": "code",
   "execution_count": 130,
   "id": "assumed-vector",
   "metadata": {},
   "outputs": [
    {
     "data": {
      "text/plain": [
       "0.4599806395199484"
      ]
     },
     "execution_count": 130,
     "metadata": {},
     "output_type": "execute_result"
    }
   ],
   "source": [
    "np.median(matris)"
   ]
  },
  {
   "cell_type": "code",
   "execution_count": 131,
   "id": "skilled-remainder",
   "metadata": {},
   "outputs": [
    {
     "data": {
      "text/plain": [
       "0.022296315655774057"
      ]
     },
     "execution_count": 131,
     "metadata": {},
     "output_type": "execute_result"
    }
   ],
   "source": [
    "np.min(matris)"
   ]
  },
  {
   "cell_type": "code",
   "execution_count": 132,
   "id": "geographic-geology",
   "metadata": {},
   "outputs": [
    {
     "data": {
      "text/plain": [
       "0.9900030122138573"
      ]
     },
     "execution_count": 132,
     "metadata": {},
     "output_type": "execute_result"
    }
   ],
   "source": [
    "np.max(matris)"
   ]
  }
 ],
 "metadata": {
  "kernelspec": {
   "display_name": "Python 3",
   "language": "python",
   "name": "python3"
  },
  "language_info": {
   "codemirror_mode": {
    "name": "ipython",
    "version": 3
   },
   "file_extension": ".py",
   "mimetype": "text/x-python",
   "name": "python",
   "nbconvert_exporter": "python",
   "pygments_lexer": "ipython3",
   "version": "3.9.2"
  }
 },
 "nbformat": 4,
 "nbformat_minor": 5
}
